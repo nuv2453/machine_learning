{
 "cells": [
  {
   "cell_type": "code",
   "execution_count": 1,
   "id": "f162be7f",
   "metadata": {},
   "outputs": [],
   "source": [
    "import pandas as pd\n",
    "from sklearn.model_selection import train_test_split\n",
    "from sklearn.feature_extraction.text import TfidfVectorizer\n",
    "from sklearn.naive_bayes import MultinomialNB\n",
    "from sklearn.linear_model import LogisticRegression\n",
    "from sklearn.svm import SVC\n",
    "from sklearn.metrics import accuracy_score, classification_report, confusion_matrix\n",
    "\n",
    "# Load the dataset\n",
    "df = pd.read_csv('spam.csv', encoding='latin-1')\n",
    "df = df.rename(columns={'v1': 'label', 'v2': 'message'})\n",
    "df = df[['label', 'message']]\n"
   ]
  },
  {
   "cell_type": "code",
   "execution_count": 2,
   "id": "aa56d695",
   "metadata": {},
   "outputs": [],
   "source": [
    "# Convert labels to binary (spam=1, ham=0)\n",
    "df['label'] = df['label'].map({'ham': 0, 'spam': 1})\n",
    "\n",
    "# Split the dataset\n",
    "X = df['message']\n",
    "y = df['label']\n",
    "X_train, X_test, y_train, y_test = train_test_split(X, y, test_size=0.2, random_state=42)\n"
   ]
  },
  {
   "cell_type": "code",
   "execution_count": 3,
   "id": "1449e5a7",
   "metadata": {},
   "outputs": [],
   "source": [
    "# Initialize TF-IDF Vectorizer\n",
    "vectorizer = TfidfVectorizer()\n",
    "X_train_vec = vectorizer.fit_transform(X_train)\n",
    "X_test_vec = vectorizer.transform(X_test)\n"
   ]
  },
  {
   "cell_type": "code",
   "execution_count": 4,
   "id": "5a9c2106",
   "metadata": {},
   "outputs": [
    {
     "name": "stdout",
     "output_type": "stream",
     "text": [
      "Naive Bayes Classification Report:\n",
      "\n",
      "              precision    recall  f1-score   support\n",
      "\n",
      "           0       0.96      1.00      0.98       965\n",
      "           1       1.00      0.72      0.84       150\n",
      "\n",
      "    accuracy                           0.96      1115\n",
      "   macro avg       0.98      0.86      0.91      1115\n",
      "weighted avg       0.96      0.96      0.96      1115\n",
      "\n",
      "Naive Bayes Confusion Matrix:\n",
      "\n",
      "[[965   0]\n",
      " [ 42 108]]\n",
      "Naive Bayes Accuracy: 0.9623318385650225\n",
      "\n",
      "Logistic Regression Classification Report:\n",
      "\n",
      "              precision    recall  f1-score   support\n",
      "\n",
      "           0       0.96      1.00      0.98       965\n",
      "           1       0.99      0.77      0.86       150\n",
      "\n",
      "    accuracy                           0.97      1115\n",
      "   macro avg       0.98      0.88      0.92      1115\n",
      "weighted avg       0.97      0.97      0.97      1115\n",
      "\n",
      "Logistic Regression Confusion Matrix:\n",
      "\n",
      "[[964   1]\n",
      " [ 35 115]]\n",
      "Logistic Regression Accuracy: 0.967713004484305\n",
      "\n",
      "Support Vector Machine Classification Report:\n",
      "\n",
      "              precision    recall  f1-score   support\n",
      "\n",
      "           0       0.98      1.00      0.99       965\n",
      "           1       1.00      0.87      0.93       150\n",
      "\n",
      "    accuracy                           0.98      1115\n",
      "   macro avg       0.99      0.93      0.96      1115\n",
      "weighted avg       0.98      0.98      0.98      1115\n",
      "\n",
      "Support Vector Machine Confusion Matrix:\n",
      "\n",
      "[[965   0]\n",
      " [ 20 130]]\n",
      "Support Vector Machine Accuracy: 0.9820627802690582\n",
      "\n"
     ]
    }
   ],
   "source": [
    "# Initialize classifiers\n",
    "nb = MultinomialNB()\n",
    "lr = LogisticRegression()\n",
    "svm = SVC()\n",
    "\n",
    "# Train classifiers\n",
    "nb.fit(X_train_vec, y_train)\n",
    "lr.fit(X_train_vec, y_train)\n",
    "svm.fit(X_train_vec, y_train)\n",
    "\n",
    "# Predict and evaluate\n",
    "for model, name in zip([nb, lr, svm], ['Naive Bayes', 'Logistic Regression', 'Support Vector Machine']):\n",
    "    y_pred = model.predict(X_test_vec)\n",
    "    print(f\"{name} Classification Report:\\n\")\n",
    "    print(classification_report(y_test, y_pred))\n",
    "    print(f\"{name} Confusion Matrix:\\n\")\n",
    "    print(confusion_matrix(y_test, y_pred))\n",
    "    print(f\"{name} Accuracy: {accuracy_score(y_test, y_pred)}\\n\")\n"
   ]
  },
  {
   "cell_type": "code",
   "execution_count": null,
   "id": "7feaf7bd",
   "metadata": {},
   "outputs": [],
   "source": []
  }
 ],
 "metadata": {
  "kernelspec": {
   "display_name": "Python 3 (ipykernel)",
   "language": "python",
   "name": "python3"
  },
  "language_info": {
   "codemirror_mode": {
    "name": "ipython",
    "version": 3
   },
   "file_extension": ".py",
   "mimetype": "text/x-python",
   "name": "python",
   "nbconvert_exporter": "python",
   "pygments_lexer": "ipython3",
   "version": "3.11.5"
  }
 },
 "nbformat": 4,
 "nbformat_minor": 5
}
